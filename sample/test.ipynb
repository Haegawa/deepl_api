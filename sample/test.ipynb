{
 "cells": [
  {
   "cell_type": "code",
   "execution_count": 20,
   "metadata": {},
   "outputs": [],
   "source": [
    "# ocr_card.py\n",
    "import os\n",
    "from PIL import Image\n",
    "import pyocr\n",
    "import pyocr.builders"
   ]
  },
  {
   "cell_type": "code",
   "execution_count": 21,
   "metadata": {},
   "outputs": [],
   "source": [
    "pyocr.tesseract.TESSERACT_CMD = r\"C:\\\\Program Files\\\\Tesseract-OCR\\\\tesseract.exe\""
   ]
  },
  {
   "cell_type": "code",
   "execution_count": 22,
   "metadata": {},
   "outputs": [],
   "source": [
    "# 2.OCRエンジンの取得\n",
    "tools = pyocr.get_available_tools()\n",
    "tool = tools[0]"
   ]
  },
  {
   "cell_type": "code",
   "execution_count": 5,
   "metadata": {},
   "outputs": [
    {
     "output_type": "stream",
     "name": "stdout",
     "text": [
      "TURNER ELIZABETH\n\nNAME\n生年月日 1985年12月 31日 性別 女 下.国息・地域 米国\nDATE OF BIRTH     \\     M     D SEX        NATIONALITY/REGION\n\n生地 東京都千代田区護が関+ 丁目1番1 号松が関ハイツ2 0 2号\n\n在久資格 留学\n\nSTATUS College\nStudent\n\n在留期間 貫了有)         Keep ro\nPERIODOFSTY- 人年3月 《20.18年10月20日)      「 1\n(DATE OF EXPIRATION)  Y  M   ーー     Y    ーー We\n\n許可の種 在久間更新許可 (東京入国管理局長) ⑫3VIOKの    見本・SAMPLE\n許可年月日 2014年06月10日 交付年月日 2014年06月10晶\n"
     ]
    }
   ],
   "source": [
    "# 3.原稿画像の読み込み\n",
    "img_org = Image.open(\"zairyucard_omote.jpg\")\n",
    "\n",
    "# 4.ＯＣＲ実行\n",
    "builder = pyocr.builders.TextBuilder()\n",
    "result = tool.image_to_string(img_org, lang=\"jpn\", builder=builder)\n",
    "\n",
    "print(result)"
   ]
  },
  {
   "cell_type": "code",
   "execution_count": 6,
   "metadata": {},
   "outputs": [
    {
     "output_type": "stream",
     "name": "stdout",
     "text": [
      "日本国政府                在留カード         番号 AB12345678CD\n\nGOVERNMENT OF JAPAN                 RESIDENCE CARD\n\n氏名 TURNER ELIZABETH\nNAME\n生年月口 1985年12月31日 作別 女 下.国籍・地域 米国\n\nDATE OF BIRTH     !    M     D SEX       NATIONALITY/REGION\n\n人届 東京都千代田区直が関 1丁目1番1号雪が関ハイツ2 02号\n\n在留資格 留学\nSTATUS College\n\nStudent         就労制限の有無        就労不可\n作太期間 (満了昌)\nPODOEStY 34年3月(2018年10月20日)\n(DATE OF EXPIRATION)    Y    M              Y       上      D\n半可の種類 在留期間更新許可 (東京入国管理局長) フー\n\n許可年月中 2014年06月10日 交付年月日 2014年06月 10日\nこのカードは 2018年10月20日まで有効 です。\n\nPERIOD OF VALIDITY OF THIS CARD\n"
     ]
    }
   ],
   "source": [
    "# 3.原稿画像の読み込み\n",
    "img_org = Image.open(\"zairyucard_omote.jpg\")\n",
    "img_rgb = img_org.convert(\"RGB\")\n",
    "pixels = img_rgb.load()\n",
    "\n",
    "# 原稿画像加工（黒っぽい色以外は白=255,255,255にする）\n",
    "c_max = 169\n",
    "for j in range(img_rgb.size[1]):\n",
    "    for i in range(img_rgb.size[0]):\n",
    "        if (pixels[i, j][0] > c_max or pixels[i, j][1] > c_max or\n",
    "                pixels[i, j][0] > c_max):\n",
    "            pixels[i, j] = (255, 255, 255)\n",
    "\n",
    "# ＯＣＲ実行\n",
    "builder = pyocr.builders.TextBuilder()\n",
    "result = tool.image_to_string(img_rgb, lang=\"jpn\", builder=builder)\n",
    "\n",
    "print(result)"
   ]
  },
  {
   "cell_type": "code",
   "execution_count": 7,
   "metadata": {},
   "outputs": [
    {
     "output_type": "stream",
     "name": "stdout",
     "text": [
      "番号 AB12345678CD\n"
     ]
    }
   ],
   "source": [
    "# 3.原稿画像の読み込み\n",
    "img_org = Image.open(\"zairyucard_omote.jpg\")\n",
    "# 番号の部分を切り抜き\n",
    "img_box = img_org.crop((770, 40, 1100, 90))\n",
    "\n",
    "# ＯＣＲ実行\n",
    "builder = pyocr.builders.TextBuilder()\n",
    "result = tool.image_to_string(img_box, lang=\"jpn\", builder=builder)\n",
    "\n",
    "print(result)"
   ]
  },
  {
   "cell_type": "code",
   "execution_count": null,
   "metadata": {},
   "outputs": [],
   "source": []
  },
  {
   "cell_type": "code",
   "execution_count": 23,
   "metadata": {},
   "outputs": [],
   "source": [
    "from PIL import ImageGrab"
   ]
  },
  {
   "cell_type": "code",
   "execution_count": 24,
   "metadata": {},
   "outputs": [],
   "source": [
    "def extract_text():\n",
    "    img = ImageGrab.grabclipboard()\n",
    "    #img.show()\n",
    "    builder = pyocr.builders.TextBuilder()\n",
    "    # 4.ＯＣＲ実行\n",
    "    if img:\n",
    "        result = tool.image_to_string(img, lang=\"jpn\", builder=builder)\n",
    "\n",
    "    return result"
   ]
  },
  {
   "cell_type": "code",
   "execution_count": 25,
   "metadata": {},
   "outputs": [],
   "source": [
    "import requests\n",
    "\n",
    "API_KEY = '' # 自身の API キーを指定\n",
    "\n",
    "def translate():\n",
    "    text = extract_text()\n",
    "    source_lang = 'EN'\n",
    "    target_lang = 'JA'\n",
    "\n",
    "    # パラメータの指定\n",
    "    params = {\n",
    "                'auth_key' : API_KEY,\n",
    "                'text' : text,\n",
    "                'source_lang' : source_lang, # 翻訳対象の言語\n",
    "                \"target_lang\": target_lang  # 翻訳後の言語\n",
    "            }\n",
    "\n",
    "    # リクエストを投げる\n",
    "    request = requests.post(\"https://api-free.deepl.com/v2/translate\", data=params) # URIは有償版, 無償版で異なるため要注意\n",
    "    result = request.json()\n",
    "    text = result[\"translations\"][0][\"text\"]\n",
    "\n",
    "    print(text)\n",
    "\n",
    "    return text\n",
    "\n",
    "#translate()"
   ]
  },
  {
   "cell_type": "code",
   "execution_count": 26,
   "metadata": {},
   "outputs": [
    {
     "output_type": "stream",
     "name": "stdout",
     "text": [
      "概要\n\n制御システムの進化はめざましく，Moc(モック)，C(コンピューティング)，C(コンピューティング)．\n| を活用した制御システムへと急速に進化しています。\nコンピューティングや地理的に分散したネットワークなど\nパフォーマンス、カバレッジ、スケーラビリティを証明します。そのため\nの計算を外部委託している制御ループがあります。\nの計算をサードパーティのプラットフォームに委託している制御ループは、すでにサイバー攻撃の対象になっています。\nは、すでにサイバー攻撃の対象になっています。\n暗号化された制御ループは、このようなセキュリティギャップを解決し、機密データを確実に保護します。\n暗号化制御は、このようなセキュリティギャップを解消し、機密性の高いデータを確実に保護します。\n"
     ]
    }
   ],
   "source": [
    "text = translate()"
   ]
  },
  {
   "cell_type": "code",
   "execution_count": 19,
   "metadata": {},
   "outputs": [],
   "source": [
    "import tkinter\n",
    "\n",
    "# Tkクラス生成\n",
    "frm = tkinter.Tk()\n",
    "# 画面サイズ\n",
    "frm.geometry('600x400')\n",
    "# 画面タイトル\n",
    "frm.title('翻訳結果')\n",
    "# 画面をそのまま表示\n",
    "frm.mainloop()"
   ]
  },
  {
   "cell_type": "code",
   "execution_count": 27,
   "metadata": {},
   "outputs": [],
   "source": [
    "import tkinter\n",
    "from tkinter import font\n",
    "\n",
    "root = tkinter.Tk()\n",
    "root.title(\"deepl 翻訳結果\")\n",
    "#root.geometry(\"300x200\")\n",
    "\n",
    "\n",
    "#座標入力\n",
    "font2 = font.Font(family='メイリオ')\n",
    "label3 = tkinter.Label(root, text=text, font=font2)\n",
    "label3.pack(side=\"top\") # 場所を指定　（top, bottom, left, or right）\n",
    "\n",
    "\n",
    "root.mainloop()"
   ]
  },
  {
   "cell_type": "code",
   "execution_count": 28,
   "metadata": {},
   "outputs": [],
   "source": [
    "import os"
   ]
  },
  {
   "cell_type": "code",
   "execution_count": 3,
   "metadata": {},
   "outputs": [],
   "source": [
    "os.environ['NEW_KEY'] = 'test'"
   ]
  },
  {
   "cell_type": "code",
   "execution_count": 4,
   "metadata": {},
   "outputs": [
    {
     "output_type": "stream",
     "name": "stdout",
     "text": [
      "test\n"
     ]
    }
   ],
   "source": [
    "print(os.getenv(\"NEW_KEY\"))"
   ]
  },
  {
   "cell_type": "code",
   "execution_count": 30,
   "metadata": {},
   "outputs": [
    {
     "output_type": "stream",
     "name": "stdout",
     "text": [
      "None\n"
     ]
    }
   ],
   "source": [
    "print(os.getenv(\"DEEPL_AUTH_KEY\"))"
   ]
  },
  {
   "cell_type": "code",
   "execution_count": 6,
   "metadata": {},
   "outputs": [
    {
     "output_type": "stream",
     "name": "stdout",
     "text": [
      "C:\\Users\\hasek\\AppData\\Local\\Temp\n"
     ]
    }
   ],
   "source": [
    "print(os.getenv(\"TMP\"))"
   ]
  },
  {
   "cell_type": "code",
   "execution_count": 6,
   "metadata": {},
   "outputs": [
    {
     "output_type": "stream",
     "name": "stdout",
     "text": [
      "None\n"
     ]
    }
   ],
   "source": [
    "print(os.environ.get('DEEPL_AUTH_KEY'))"
   ]
  },
  {
   "cell_type": "code",
   "execution_count": null,
   "metadata": {},
   "outputs": [],
   "source": []
  }
 ],
 "metadata": {
  "kernelspec": {
   "display_name": "Python 3",
   "language": "python",
   "name": "python3"
  },
  "language_info": {
   "codemirror_mode": {
    "name": "ipython",
    "version": 3
   },
   "file_extension": ".py",
   "mimetype": "text/x-python",
   "name": "python",
   "nbconvert_exporter": "python",
   "pygments_lexer": "ipython3",
   "version": "3.7.9-final"
  },
  "toc": {
   "base_numbering": 1,
   "nav_menu": {},
   "number_sections": true,
   "sideBar": true,
   "skip_h1_title": false,
   "title_cell": "Table of Contents",
   "title_sidebar": "Contents",
   "toc_cell": false,
   "toc_position": {},
   "toc_section_display": true,
   "toc_window_display": false
  }
 },
 "nbformat": 4,
 "nbformat_minor": 4
}